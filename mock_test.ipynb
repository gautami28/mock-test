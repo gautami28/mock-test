{
  "nbformat": 4,
  "nbformat_minor": 0,
  "metadata": {
    "colab": {
      "name": "mock test.ipynb",
      "provenance": [],
      "authorship_tag": "ABX9TyNyA/0n/4ppMsXEVgmWot5i",
      "include_colab_link": true
    },
    "kernelspec": {
      "name": "python3",
      "display_name": "Python 3"
    },
    "language_info": {
      "name": "python"
    }
  },
  "cells": [
    {
      "cell_type": "markdown",
      "metadata": {
        "id": "view-in-github",
        "colab_type": "text"
      },
      "source": [
        "<a href=\"https://colab.research.google.com/github/gautami28/mock-test/blob/main/mock_test.ipynb\" target=\"_parent\"><img src=\"https://colab.research.google.com/assets/colab-badge.svg\" alt=\"Open In Colab\"/></a>"
      ]
    },
    {
      "cell_type": "code",
      "metadata": {
        "colab": {
          "base_uri": "https://localhost:8080/"
        },
        "id": "vhNwaLGg5EbL",
        "outputId": "4a4e75cd-c3b9-4bbb-fd85-02fe925abae0"
      },
      "source": [
        "n = int(input(\"enter the number of employee: \"))\n",
        "a = []\n",
        "for i in range(n):\n",
        "  a.append(int(input()))\n",
        "\n",
        "key = int(input(\"enter the id of employee to be searched:\"))\n",
        "\n",
        "def linear_search(n,key,a):\n",
        "  for i in range(n):\n",
        "    if (a[i] == key):\n",
        "      return (i)\n",
        "    else:\n",
        "      return (-1)\n",
        "\n",
        "result = linear_search(n,key,a)\n",
        "if (result == -1):\n",
        "  print(\"employee didn't attend the session\")\n",
        "else:\n",
        "  print(\"employee attended the session\",result)\n"
      ],
      "execution_count": 5,
      "outputs": [
        {
          "output_type": "stream",
          "name": "stdout",
          "text": [
            "enter the number of employee: 4\n",
            "12\n",
            "75\n",
            "25\n",
            "89\n",
            "enter the id of employee to be searched:12\n",
            "employee attended the session 0\n"
          ]
        }
      ]
    },
    {
      "cell_type": "code",
      "metadata": {
        "colab": {
          "base_uri": "https://localhost:8080/"
        },
        "id": "tMaK9WTj6WpD",
        "outputId": "1357c9aa-3684-42a7-d7cd-f10be815a281"
      },
      "source": [
        "n = int(input(\"enter the number of employee: \"))\n",
        "a = []\n",
        "for i in range(n):\n",
        "  a.append(int(input()))\n",
        "\n",
        "key = int(input(\"enter the id of employee to be searched:\"))\n",
        "\n",
        "\n",
        "def sentinal_search(n,key,a):\n",
        "  for i in range(n):\n",
        "    if (a[n-1] == key):\n",
        "      return ( f\"{key} Not found in the list\")\n",
        "    else:\n",
        "      return (f\"{key}found in the list\")\n",
        "\n",
        "result = sentinal_search(n,key,a)\n",
        "if (result == -1):\n",
        "  print(\"employee didn't attend the session\")\n",
        "else:\n",
        "  print(\"employee attended the session\",result)"
      ],
      "execution_count": 17,
      "outputs": [
        {
          "output_type": "stream",
          "name": "stdout",
          "text": [
            "enter the number of employee: 4\n",
            "24\n",
            "89\n",
            "35\n",
            "75\n",
            "enter the id of employee to be searched:35\n",
            "employee attended the session 35found in the list\n"
          ]
        }
      ]
    },
    {
      "cell_type": "code",
      "metadata": {
        "colab": {
          "base_uri": "https://localhost:8080/"
        },
        "id": "pnvSlEHp6zWq",
        "outputId": "8b80d7df-a0e3-4099-df49-66e7b1009769"
      },
      "source": [
        "n = int(input(\"enter the number of employee: \"))\n",
        "a = [] \n",
        "for i in range(n):\n",
        "  a.append(int(input()))\n",
        "key = int(input(\"enter the id of employee to be searched: \"))\n",
        "\n",
        "def binary_search(n,key,a):\n",
        "  i=0\n",
        "  j=n-1\n",
        "  k = 0\n",
        "  while(i<=j):\n",
        "    k = k+1\n",
        "    c = (i+j)//2\n",
        "    if (key == a[c]):\n",
        "      return (c)\n",
        "    elif (key < a[c]):\n",
        "      j = c-1\n",
        "    else:\n",
        "      j = c+1\n",
        "  return (-1)\n",
        "\n",
        "result = binary_search(n,key,a)\n",
        "if (result==-1):\n",
        "  print(\"emplyoee didnt attend the session\")\n",
        "else:\n",
        "  print(\"emplyoee attended the session\",result)"
      ],
      "execution_count": 8,
      "outputs": [
        {
          "output_type": "stream",
          "name": "stdout",
          "text": [
            "enter the number of employee: 4\n",
            "12\n",
            "14\n",
            "25\n",
            "30\n",
            "enter the id of employee to be searched: 14\n",
            "emplyoee attended the session 1\n"
          ]
        }
      ]
    },
    {
      "cell_type": "code",
      "metadata": {
        "colab": {
          "base_uri": "https://localhost:8080/"
        },
        "id": "KcsBZAcZ681S",
        "outputId": "7f980828-3b6c-4450-fcfe-f930bc471504"
      },
      "source": [
        "n = int(input(\"enter the number of employee: \"))\n",
        "a = [] \n",
        "for i in range(n):\n",
        "  a.append(int(input()))\n",
        "key = int(input(\"enter the id of employee to be searched: \"))\n",
        "\n",
        "def fibbonacci_search(n,key,a):\n",
        "  start = -1\n",
        "  f0 = 0\n",
        "  f1 = 1\n",
        "  f2 = f1 + f0\n",
        " \n",
        "  while (f2 < n):\n",
        "    f0 = f1\n",
        "    f1 = f2\n",
        "    f2 = f1 + f0\n",
        "\n",
        "  offset = -1\n",
        "\n",
        "  while (f2 >1):\n",
        "    i = min (offset + f0,n-1)\n",
        "\n",
        "    if (a[i]<key):\n",
        "      f2 = f1\n",
        "      f1 = f0\n",
        "      f0 = f2 - f1\n",
        "      offest = i\n",
        "    \n",
        "    elif (a[i]>key):\n",
        "      f2 = f1\n",
        "      f1 = f1 - f0\n",
        "      f0 = f2 - f1\n",
        "    else:\n",
        "      return i\n",
        "  if (f1 and a[n-1] == key):\n",
        "    return (n-1)\n",
        "  return (-1)\n",
        "\n",
        "result = fibbonacci_search(n,key,a)\n",
        "\n",
        "if (result == -1):\n",
        "  print(\"employee didn't attend the session\")\n",
        "else:\n",
        "  print(\"employee attended the session\",result)"
      ],
      "execution_count": 11,
      "outputs": [
        {
          "output_type": "stream",
          "name": "stdout",
          "text": [
            "enter the number of employee: 4\n",
            "12\n",
            "14\n",
            "25\n",
            "30\n",
            "enter the id of employee to be searched: 14\n",
            "employee attended the session 1\n"
          ]
        }
      ]
    }
  ]
}